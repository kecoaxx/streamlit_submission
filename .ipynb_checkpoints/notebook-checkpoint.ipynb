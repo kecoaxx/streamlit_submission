{
 "cells": [
  {
   "cell_type": "markdown",
   "metadata": {
    "id": "H9wADwK78DCz"
   },
   "source": [
    "# Proyek Analisis Data: [Input Nama Dataset]\n",
    "- **Nama:** [David Samuel Sitorus]\n",
    "- **Email:** [sammysitorus23@gmail.com]\n",
    "- **ID Dicoding:** [davidsam27]"
   ]
  },
  {
   "cell_type": "markdown",
   "metadata": {
    "id": "eE0raob58DC0"
   },
   "source": [
    "## Menentukan Pertanyaan Bisnis"
   ]
  },
  {
   "cell_type": "markdown",
   "metadata": {
    "id": "GmQeQ5YF8DC0"
   },
   "source": [
    "- Bagaimana kita dapat mengelompokkan pengguna berdasarkan perilaku sewa mereka menggunakan RFM?\n",
    "- Bagaimana aktivitas penyewaan sepeda bervariasi pada jam-jam yang berbeda dalam sehari?\n",
    "- Bisakah kita mengelompokkan penyewaan sepeda berdasarkan kondisi cuaca untuk memahami dampaknya terhadap jumlah penyewaan?"
   ]
  },
  {
   "cell_type": "markdown",
   "metadata": {
    "id": "H-z4QGlO8DC1"
   },
   "source": [
    "## Import Semua Packages/Library yang Digunakan"
   ]
  },
  {
   "cell_type": "code",
   "execution_count": 1,
   "metadata": {
    "id": "FVYwaObI8DC1",
    "vscode": {
     "languageId": "r"
    }
   },
   "outputs": [],
   "source": [
    "import pandas as pd\n",
    "import numpy as np\n",
    "import matplotlib.pyplot as plt\n",
    "import seaborn as sns"
   ]
  },
  {
   "cell_type": "markdown",
   "metadata": {
    "id": "h_Sh51Xy8DC1"
   },
   "source": [
    "## Data Wrangling"
   ]
  },
  {
   "cell_type": "markdown",
   "metadata": {
    "id": "sXU2GBYu8DC1"
   },
   "source": [
    "### Gathering Data"
   ]
  },
  {
   "cell_type": "code",
   "execution_count": 7,
   "metadata": {
    "id": "zjCBk1BI8DC1",
    "vscode": {
     "languageId": "r"
    }
   },
   "outputs": [],
   "source": [
    "day_df = pd.read_csv('data/day.csv')\n",
    "hour_df = pd.read_csv('data/hour.csv')"
   ]
  },
  {
   "cell_type": "code",
   "execution_count": null,
   "metadata": {
    "vscode": {
     "languageId": "r"
    }
   },
   "outputs": [],
   "source": [
    "day_df.head()"
   ]
  },
  {
   "cell_type": "code",
   "execution_count": null,
   "metadata": {
    "vscode": {
     "languageId": "r"
    }
   },
   "outputs": [],
   "source": [
    "hour_df.head()"
   ]
  },
  {
   "cell_type": "markdown",
   "metadata": {},
   "source": [
    "day_df merupakan dataset dari peminjaman sepeda per hari, melainkan dataset hour_df mencakup per jam dari peminjaman sepeda"
   ]
  },
  {
   "cell_type": "markdown",
   "metadata": {
    "id": "FHSiqaZp8DC1"
   },
   "source": [
    "### Assessing Data"
   ]
  },
  {
   "cell_type": "markdown",
   "metadata": {},
   "source": [
    "#### day_df"
   ]
  },
  {
   "cell_type": "code",
   "execution_count": null,
   "metadata": {
    "id": "ax-3tEjc9Cj1",
    "vscode": {
     "languageId": "r"
    }
   },
   "outputs": [],
   "source": [
    "day_df.info()"
   ]
  },
  {
   "cell_type": "markdown",
   "metadata": {
    "id": "7dtxhAPrkhPL"
   },
   "source": [
    "Jika kita lihat, terdapat 731 entri dan tidak satupun dari sel yang bernilai null"
   ]
  },
  {
   "cell_type": "code",
   "execution_count": null,
   "metadata": {
    "vscode": {
     "languageId": "r"
    }
   },
   "outputs": [],
   "source": [
    "day_df.duplicated().sum()"
   ]
  },
  {
   "cell_type": "markdown",
   "metadata": {},
   "source": [
    "Dan pada day_df, tidak ada data yang terduplikasi"
   ]
  },
  {
   "cell_type": "markdown",
   "metadata": {},
   "source": [
    "#### hour_df"
   ]
  },
  {
   "cell_type": "code",
   "execution_count": null,
   "metadata": {
    "vscode": {
     "languageId": "r"
    }
   },
   "outputs": [],
   "source": [
    "hour_df.info()"
   ]
  },
  {
   "cell_type": "markdown",
   "metadata": {},
   "source": [
    "Dalam hour_df, terdapat 17379 entri dan juga tidak satupun dari sel yang bernilai null"
   ]
  },
  {
   "cell_type": "code",
   "execution_count": null,
   "metadata": {
    "vscode": {
     "languageId": "r"
    }
   },
   "outputs": [],
   "source": [
    "hour_df.duplicated().sum()"
   ]
  },
  {
   "cell_type": "markdown",
   "metadata": {},
   "source": [
    "Dan pada hour_df, tidak ada data yang terduplikasi"
   ]
  },
  {
   "cell_type": "markdown",
   "metadata": {
    "id": "EhN5R4hr8DC1"
   },
   "source": [
    "### Cleaning Data"
   ]
  },
  {
   "cell_type": "markdown",
   "metadata": {},
   "source": [
    "### day_df"
   ]
  },
  {
   "cell_type": "markdown",
   "metadata": {},
   "source": [
    "dengan adanya \"dteday\" untuk tanggal dan \"weekday\" untuk hari di tanggal tersebut, \"yr\", \"mnth\", dan \"workingday\" tidak diperlukan"
   ]
  },
  {
   "cell_type": "code",
   "execution_count": 11,
   "metadata": {
    "id": "jVnYpprE9Evz",
    "vscode": {
     "languageId": "r"
    }
   },
   "outputs": [],
   "source": [
    "day_df = day_df.drop(columns = ['yr','mnth','workingday'])\n"
   ]
  },
  {
   "cell_type": "code",
   "execution_count": null,
   "metadata": {
    "vscode": {
     "languageId": "r"
    }
   },
   "outputs": [],
   "source": [
    "day_df.head()"
   ]
  },
  {
   "cell_type": "code",
   "execution_count": null,
   "metadata": {
    "vscode": {
     "languageId": "r"
    }
   },
   "outputs": [],
   "source": [
    "day_df.isna().sum()"
   ]
  },
  {
   "cell_type": "markdown",
   "metadata": {},
   "source": [
    "### hour_df"
   ]
  },
  {
   "cell_type": "markdown",
   "metadata": {},
   "source": [
    "dengan adanya \"dteday\" untuk tanggal dan \"weekday\" untuk hari di tanggal tersebut, \"yr\", \"mnth\", dan \"workingday\" tidak diperlukan"
   ]
  },
  {
   "cell_type": "code",
   "execution_count": 13,
   "metadata": {
    "vscode": {
     "languageId": "r"
    }
   },
   "outputs": [],
   "source": [
    "hour_df = hour_df.drop(columns = ['yr','mnth','workingday'])"
   ]
  },
  {
   "cell_type": "code",
   "execution_count": null,
   "metadata": {
    "vscode": {
     "languageId": "r"
    }
   },
   "outputs": [],
   "source": [
    "hour_df.head()"
   ]
  },
  {
   "cell_type": "code",
   "execution_count": null,
   "metadata": {
    "vscode": {
     "languageId": "r"
    }
   },
   "outputs": [],
   "source": [
    "hour_df.isna().sum()"
   ]
  },
  {
   "cell_type": "markdown",
   "metadata": {
    "id": "gp-Y6wU38DC1"
   },
   "source": [
    "## Exploratory Data Analysis (EDA)"
   ]
  },
  {
   "cell_type": "markdown",
   "metadata": {
    "id": "MW7WF2kr8DC1"
   },
   "source": [
    "### Explore day_df"
   ]
  },
  {
   "cell_type": "code",
   "execution_count": null,
   "metadata": {
    "id": "e9CQCZjk8DC2",
    "vscode": {
     "languageId": "r"
    }
   },
   "outputs": [],
   "source": [
    "day_df.head()"
   ]
  },
  {
   "cell_type": "markdown",
   "metadata": {},
   "source": [
    "#### Visualisasi total rental berdasarkan musim"
   ]
  },
  {
   "cell_type": "code",
   "execution_count": null,
   "metadata": {
    "vscode": {
     "languageId": "r"
    }
   },
   "outputs": [],
   "source": [
    "# Mapping musim sesuai dengan musim dari masing-masing angka\n",
    "mapping_musim = {1: 'Semi', 2: 'Panas', 3: 'Gugur', 4: 'Dingin'}\n",
    "day_df['nama_musim'] = day_df['season'].map(mapping_musim)\n",
    "\n",
    "# Membuat plot\n",
    "plt.figure(figsize=(10, 6))\n",
    "ax = sns.barplot(x='nama_musim', y='cnt', data=day_df, estimator=np.sum, palette='viridis', errorbar=None)\n",
    "\n",
    "# Menambahkan angka di atas setiap bar\n",
    "for p in ax.patches:\n",
    "    ax.annotate(format(p.get_height(), '.0f'), \n",
    "                (p.get_x() + p.get_width() / 2., p.get_height()), \n",
    "                ha = 'center', va = 'center', \n",
    "                xytext = (0, 9), \n",
    "                textcoords = 'offset points')\n",
    "\n",
    "plt.title('Total Sewa Sepeda Berdasarkan Musim')\n",
    "plt.xlabel('Musim')\n",
    "plt.ylabel('Total Sewa')\n",
    "plt.show()"
   ]
  },
  {
   "cell_type": "markdown",
   "metadata": {
    "id": "th_Lzl2Fkj9O"
   },
   "source": [
    "Dari grafik tersebut, terlihat bahwa:\n",
    "- Jumlah penyewaan tertinggi terjadi pada musim Gugur, diikuti oleh musim Panas.\n",
    "- Musim Semi mencatat jumlah penyewaan terendah.\n",
    "- Meskipun berada di musim Dingin, total penyewaan masih cukup tinggi dan hampir menyamai angka di musim Panas."
   ]
  },
  {
   "cell_type": "markdown",
   "metadata": {},
   "source": [
    "### Explore hour_df"
   ]
  },
  {
   "cell_type": "code",
   "execution_count": null,
   "metadata": {
    "vscode": {
     "languageId": "r"
    }
   },
   "outputs": [],
   "source": [
    "hour_df.head()"
   ]
  },
  {
   "cell_type": "code",
   "execution_count": null,
   "metadata": {
    "vscode": {
     "languageId": "r"
    }
   },
   "outputs": [],
   "source": [
    "corr_matrix = hour_df.corr()\n",
    "sns.heatmap(corr_matrix, annot=True, cmap='coolwarm', linewidths=0.5)\n",
    "plt.title('Correlation Matrix')\n",
    "plt.show()\n"
   ]
  },
  {
   "cell_type": "markdown",
   "metadata": {},
   "source": [
    "Dengan Correlation Matrix diatas, kita bisa lihat korelasi tertinggi adalah temp dengan atemp. Korelasi mereka sangat dekat dikarenakan temp merupakan temperatur ternormalisasi, melainkan atemp merupakan suhu perasaan."
   ]
  },
  {
   "cell_type": "markdown",
   "metadata": {
    "id": "zsyZjqak8DC2"
   },
   "source": [
    "## Visualization & Explanatory Analysis"
   ]
  },
  {
   "cell_type": "markdown",
   "metadata": {
    "id": "HZxOiQ6n8DC2"
   },
   "source": [
    "### Pertanyaan 1: Bagaimana kita dapat mengelompokkan pengguna berdasarkan perilaku sewa mereka menggunakan RFM?"
   ]
  },
  {
   "cell_type": "markdown",
   "metadata": {},
   "source": [
    "Dalam pertanyaan ini, kita akan menghitung metrik RFM untuk pengguna berdasarkan jumlah sewa mereka dan mengklasifikasikannya ke dalam segmen."
   ]
  },
  {
   "cell_type": "code",
   "execution_count": null,
   "metadata": {
    "id": "1swJUdAD8DC2",
    "vscode": {
     "languageId": "r"
    }
   },
   "outputs": [],
   "source": [
    "# Mengonversi 'dteday' menjadi format datetime\n",
    "day_df['dteday'] = pd.to_datetime(day_df['dteday'])\n",
    "\n",
    "# Ambil tanggal terakhir dalam dataset untuk perhitungan Recency\n",
    "today = day_df['dteday'].max()\n",
    "\n",
    "# Menghitung RFM\n",
    "rfm = pd.DataFrame()\n",
    "rfm['Recency'] = (today - day_df['dteday']).dt.days  # Menghitung Recency\n",
    "rfm['Frequency'] = day_df['cnt']  # Menghitung Frequency\n",
    "rfm['Monetary'] = day_df['cnt'] * 1  # Mengasumsikan $1 per sewa\n",
    "\n",
    "# Menampilkan ringkasan RFM\n",
    "print(rfm.describe())\n",
    "\n",
    "# Mengelompokkan pengguna berdasarkan RFM\n",
    "rfm['R_Score'] = pd.qcut(rfm['Recency'], 4, labels=False)  # Semakin rendah semakin baik\n",
    "rfm['F_Score'] = pd.qcut(rfm['Frequency'], 4, labels=False)  # Semakin tinggi semakin baik\n",
    "rfm['M_Score'] = pd.qcut(rfm['Monetary'], 4, labels=False)  # Semakin tinggi semakin baik\n",
    "\n",
    "# Membuat skor gabungan\n",
    "rfm['RFM_Score'] = rfm['R_Score'] + rfm['F_Score'] + rfm['M_Score']\n",
    "print(rfm[['Recency', 'Frequency', 'Monetary', 'RFM_Score']])\n"
   ]
  },
  {
   "cell_type": "markdown",
   "metadata": {},
   "source": [
    "Diatas merupakan Recency, Frequency, Monetary, dan RFM Score dari df yang digunakan"
   ]
  },
  {
   "cell_type": "code",
   "execution_count": null,
   "metadata": {
    "vscode": {
     "languageId": "r"
    }
   },
   "outputs": [],
   "source": [
    "# Membuat hitungan setiap skor RFM\n",
    "rfm_score_counts = rfm['RFM_Score'].value_counts().sort_index()\n",
    "\n",
    "# Membuat plot\n",
    "plt.figure(figsize=(10, 6))\n",
    "ax = sns.barplot(x=rfm_score_counts.index, y=rfm_score_counts.values)\n",
    "\n",
    "# Menambahkan angka di atas setiap bar\n",
    "for p in ax.patches:\n",
    "    ax.annotate(format(p.get_height(), '.0f'), \n",
    "                (p.get_x() + p.get_width() / 2., p.get_height()), \n",
    "                ha = 'center', va = 'center', \n",
    "                xytext = (0, 9), \n",
    "                textcoords = 'offset points')\n",
    "    \n",
    "\n",
    "plt.title('Distribusi Skor RFM')\n",
    "plt.xlabel('Skor RFM')\n",
    "plt.ylabel('Jumlah Hari')\n",
    "plt.xticks(rotation=0)\n",
    "plt.show()\n"
   ]
  },
  {
   "cell_type": "markdown",
   "metadata": {},
   "source": [
    "Dari grafik tersebut, kita dapat melihat bahwa sebagian besar pelanggan memiliki skor RFM di kisaran 3 hingga 6, dengan puncak pada skor 6 yang mencapai sekitar 160 hari."
   ]
  },
  {
   "cell_type": "markdown",
   "metadata": {
    "id": "DgHI7CiU8DC2"
   },
   "source": [
    "### Pertanyaan 2: Bagaimana aktivitas penyewaan sepeda bervariasi pada jam-jam yang berbeda dalam sehari?"
   ]
  },
  {
   "cell_type": "code",
   "execution_count": null,
   "metadata": {
    "id": "Go0lCsvO8DC2",
    "vscode": {
     "languageId": "r"
    }
   },
   "outputs": [],
   "source": [
    "hourly_rentals = hour_df.groupby('hr')['cnt'].sum().reset_index()\n",
    "\n",
    "# Memvisualisasikan data\n",
    "plt.figure(figsize=(15, 10))\n",
    "ax = sns.lineplot(data=hourly_rentals, x='hr', y='cnt', marker='o')\n",
    "\n",
    "for x, y in zip(hourly_rentals['hr'], hourly_rentals['cnt']):\n",
    "    plt.text(x, y, f'{y:.0f}', ha='center', va='bottom', fontsize=10, rotation = 45)\n",
    "    \n",
    "plt.title('Sewa Sepeda Berdasarkan Jam Hari')\n",
    "plt.xlabel('Jam')\n",
    "plt.ylabel('Total Sewa')\n",
    "plt.xticks(hourly_rentals['hr'])\n",
    "plt.grid()\n",
    "plt.show()"
   ]
  },
  {
   "cell_type": "markdown",
   "metadata": {
    "id": "_0-36BDLklRg"
   },
   "source": [
    "Dari grafik tersebut, kita bisa melihat beberapa pola utama:\n",
    "\n",
    "- Puncak pertama (jam 8): Terdapat lonjakan tajam dalam penyewaan sepeda sekitar pukul 8 pagi, yang mencapai lebih dari 250.000 sewa. Ini mungkin terkait dengan aktivitas pagi hari, seperti orang-orang yang berangkat bekerja atau berolahraga.\n",
    "\n",
    "- Penurunan setelah puncak pagi: Setelah jam 8, aktivitas sewa menurun tajam hingga pukul 10, dan mulai stabil di angka yang lebih rendah hingga sekitar tengah hari (jam 12-13).\n",
    "\n",
    "- Puncak kedua (jam 17): Aktivitas sewa kembali mengalami peningkatan signifikan pada sore hari, dengan puncaknya di sekitar jam 17. Ini bisa dikaitkan dengan orang-orang pulang kerja atau aktivitas sore hari lainnya.\n",
    "\n",
    "- Penurunan setelah jam 18: Setelah jam 18, jumlah sewa sepeda mulai menurun, menunjukkan bahwa penggunaan sepeda cenderung berkurang menjelang malam."
   ]
  },
  {
   "cell_type": "markdown",
   "metadata": {},
   "source": [
    "### Pertanyaan 3: Dapatkah kita mengelompokkan sewa sepeda berdasarkan kondisi cuaca untuk memahami dampaknya terhadap jumlah sewa?"
   ]
  },
  {
   "cell_type": "code",
   "execution_count": null,
   "metadata": {
    "vscode": {
     "languageId": "r"
    }
   },
   "outputs": [],
   "source": [
    "weather_mapping = {\n",
    "    1: 'Clear',\n",
    "    2: 'Mist',\n",
    "    3: 'Light Rain',\n",
    "    4: 'Heavy Rain'\n",
    "}\n",
    "hour_df['weather_condition'] = hour_df['weathersit'].map(weather_mapping)\n",
    "\n",
    "# Mengelompokkan berdasarkan kondisi cuaca dan merangkum total sewa\n",
    "weather_grouped = hour_df.groupby('weather_condition')['cnt'].sum().reset_index()\n",
    "\n",
    "# Membuat label per bar\n",
    "def addlabels(x,y):\n",
    "    for i in range(len(x)):\n",
    "        plt.text(i, y[i], f'{y[i]:,.0f}', ha='center', va='bottom', fontsize=10)\n",
    "\n",
    "# Memvisualisasikan hasil\n",
    "plt.figure(figsize=(10, 6))\n",
    "sns.barplot(data=weather_grouped, x='weather_condition', y='cnt')\n",
    "addlabels(weather_grouped['weather_condition'], weather_grouped['cnt'])\n",
    "plt.title('Total Sewa Sepeda Berdasarkan Kondisi Cuaca')\n",
    "plt.xlabel('Kondisi Cuaca')\n",
    "plt.ylabel('Total Sewa')\n",
    "plt.xticks(rotation=45)\n",
    "plt.show()\n"
   ]
  },
  {
   "cell_type": "markdown",
   "metadata": {},
   "source": [
    "Berdasarkan bar chart di atas, berikut adalah beberapa kesimpulan terkait total sewa sepeda berdasarkan kondisi cuaca:\n",
    "\n",
    "- Cuaca Cerah (Clear): Merupakan kondisi cuaca dengan jumlah sewa sepeda tertinggi, mencapai lebih dari 2,3 juta total sewa. Ini menunjukkan bahwa penyewaan sepeda paling populer ketika cuaca cerah, kemungkinan karena cuaca yang mendukung untuk aktivitas luar ruangan.\n",
    "\n",
    "- Cuaca Berkabut (Mist): Meskipun jauh di bawah cuaca cerah, kondisi berkabut masih memiliki jumlah total sewa yang cukup tinggi, sekitar 795.952. Hal ini menunjukkan bahwa kabut ringan tidak secara signifikan menghambat penyewaan sepeda.\n",
    "\n",
    "- Hujan Ringan (Light Rain): Penyewaan sepeda menurun cukup signifikan saat terjadi hujan ringan, dengan total sewa sekitar 158.331. Ini mengindikasikan bahwa pengguna mungkin kurang tertarik menyewa sepeda dalam kondisi hujan, meskipun tidak terlalu lebat.\n",
    "\n",
    "- Hujan Lebat (Heavy Rain): Jumlah sewa sepeda paling rendah terjadi saat hujan lebat, hanya sebanyak 223 total sewa. Ini menunjukkan bahwa hujan lebat hampir sepenuhnya menghentikan aktivitas penyewaan sepeda, mungkin karena faktor keselamatan dan kenyamanan."
   ]
  },
  {
   "cell_type": "markdown",
   "metadata": {
    "id": "_WeHlCeX8DC2"
   },
   "source": [
    "## Conclusion"
   ]
  },
  {
   "cell_type": "markdown",
   "metadata": {
    "id": "ZTcyR48Y8DC2"
   },
   "source": [
    "- Kita dapat mengelompokkan pengguna berdasarkan perilaku sewa mereka dengan cara menghitung metrik RFM untuk pengguna berdasarkan jumlah sewa mereka dan mengklasifikasikannya ke dalam segmen. Hasil menunjukkan bahwa mayoritas pelanggan berada pada rentang menengah dalam hal perilaku sewa mereka, baik dari segi frekuensi, nilai transaksi, maupun waktu terakhir bertransaksi.\n",
    "- Aktivitas penyewaan sepeda cenderung tinggi pada pagi hari sekitar jam 8 dan sore hari sekitar jam 17, dengan penurunan yang signifikan pada siang dan malam hari. Pola ini menunjukkan dua waktu sibuk utama dalam sehari untuk sewa sepeda, yang kemungkinan besar terkait dengan jam sibuk berangkat dan pulang kerja.\n",
    "- Jumlah penyewaan sepeda tertinggi terjadi saat cuaca cerah, sementara penyewaan menurun signifikan pada kondisi berkabut, hujan ringan, dan hampir berhenti total saat hujan lebat."
   ]
  }
 ],
 "metadata": {
  "colab": {
   "provenance": [],
   "toc_visible": true
  },
  "kernelspec": {
   "display_name": "Python 3 (ipykernel)",
   "language": "python",
   "name": "python3"
  },
  "language_info": {
   "codemirror_mode": {
    "name": "ipython",
    "version": 3
   },
   "file_extension": ".py",
   "mimetype": "text/x-python",
   "name": "python",
   "nbconvert_exporter": "python",
   "pygments_lexer": "ipython3",
   "version": "3.12.4"
  },
  "vscode": {
   "interpreter": {
    "hash": "972b3bf27e332e87b5379f2791f6ef9dfc79c71018c370b0d7423235e20fe4d7"
   }
  }
 },
 "nbformat": 4,
 "nbformat_minor": 4
}
